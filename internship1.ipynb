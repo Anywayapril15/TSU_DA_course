{
 "cells": [
  {
   "cell_type": "code",
   "execution_count": 20,
   "id": "afe0add8-716e-4b02-94d4-6befb419be67",
   "metadata": {},
   "outputs": [],
   "source": [
    "#импортируем важные для нашей работы библиотеки\n",
    "import os\n",
    "import sys\n",
    "import random\n",
    "import pandas as pd\n",
    "import numpy as np\n",
    "from sklearn.tree import DecisionTreeClassifier\n",
    "from sklearn.ensemble import RandomForestClassifier, GradientBoostingClassifier\n",
    "from sklearn.linear_model import LogisticRegression\n",
    "from sklearn.neural_network import MLPClassifier\n",
    "from sklearn.metrics import recall_score, accuracy_score, f1_score, precision_score\n",
    "from sklearn.model_selection import GridSearchCV\n",
    "import matplotlib.pyplot as plt"
   ]
  },
  {
   "cell_type": "code",
   "execution_count": 21,
   "id": "98a5e8d3-5858-4ac4-8d4e-c29981465005",
   "metadata": {},
   "outputs": [],
   "source": [
    "df = pd.read_excel('Госвласть женщины.xls')"
   ]
  },
  {
   "cell_type": "code",
   "execution_count": 22,
   "id": "22f21ab9-f4e1-4ef2-a0d0-d0b0e28290da",
   "metadata": {},
   "outputs": [
    {
     "data": {
      "text/html": [
       "<div>\n",
       "<style scoped>\n",
       "    .dataframe tbody tr th:only-of-type {\n",
       "        vertical-align: middle;\n",
       "    }\n",
       "\n",
       "    .dataframe tbody tr th {\n",
       "        vertical-align: top;\n",
       "    }\n",
       "\n",
       "    .dataframe thead th {\n",
       "        text-align: right;\n",
       "    }\n",
       "</style>\n",
       "<table border=\"1\" class=\"dataframe\">\n",
       "  <thead>\n",
       "    <tr style=\"text-align: right;\">\n",
       "      <th></th>\n",
       "      <th>Год</th>\n",
       "      <th>Федеральное Собрание РФ</th>\n",
       "      <th>Совет Федерации Федерального Собрания РФ</th>\n",
       "      <th>Государственная Дума Федерального Собрания РФ</th>\n",
       "    </tr>\n",
       "  </thead>\n",
       "  <tbody>\n",
       "    <tr>\n",
       "      <th>0</th>\n",
       "      <td>2014</td>\n",
       "      <td>12.4</td>\n",
       "      <td>7.9</td>\n",
       "      <td>14.0</td>\n",
       "    </tr>\n",
       "    <tr>\n",
       "      <th>1</th>\n",
       "      <td>2015</td>\n",
       "      <td>14.4</td>\n",
       "      <td>17.1</td>\n",
       "      <td>13.3</td>\n",
       "    </tr>\n",
       "    <tr>\n",
       "      <th>2</th>\n",
       "      <td>2016</td>\n",
       "      <td>14.4</td>\n",
       "      <td>16.5</td>\n",
       "      <td>13.6</td>\n",
       "    </tr>\n",
       "    <tr>\n",
       "      <th>3</th>\n",
       "      <td>2017</td>\n",
       "      <td>16.2</td>\n",
       "      <td>17.1</td>\n",
       "      <td>15.8</td>\n",
       "    </tr>\n",
       "    <tr>\n",
       "      <th>4</th>\n",
       "      <td>2018</td>\n",
       "      <td>16.4</td>\n",
       "      <td>17.8</td>\n",
       "      <td>15.9</td>\n",
       "    </tr>\n",
       "    <tr>\n",
       "      <th>5</th>\n",
       "      <td>2019</td>\n",
       "      <td>16.7</td>\n",
       "      <td>18.3</td>\n",
       "      <td>16.1</td>\n",
       "    </tr>\n",
       "    <tr>\n",
       "      <th>6</th>\n",
       "      <td>2020</td>\n",
       "      <td>16.5</td>\n",
       "      <td>17.2</td>\n",
       "      <td>16.3</td>\n",
       "    </tr>\n",
       "    <tr>\n",
       "      <th>7</th>\n",
       "      <td>2021</td>\n",
       "      <td>17.2</td>\n",
       "      <td>19.5</td>\n",
       "      <td>16.3</td>\n",
       "    </tr>\n",
       "  </tbody>\n",
       "</table>\n",
       "</div>"
      ],
      "text/plain": [
       "    Год  Федеральное Собрание РФ  Совет Федерации Федерального Собрания РФ  \\\n",
       "0  2014                     12.4                                       7.9   \n",
       "1  2015                     14.4                                      17.1   \n",
       "2  2016                     14.4                                      16.5   \n",
       "3  2017                     16.2                                      17.1   \n",
       "4  2018                     16.4                                      17.8   \n",
       "5  2019                     16.7                                      18.3   \n",
       "6  2020                     16.5                                      17.2   \n",
       "7  2021                     17.2                                      19.5   \n",
       "\n",
       "   Государственная Дума Федерального Собрания РФ  \n",
       "0                                           14.0  \n",
       "1                                           13.3  \n",
       "2                                           13.6  \n",
       "3                                           15.8  \n",
       "4                                           15.9  \n",
       "5                                           16.1  \n",
       "6                                           16.3  \n",
       "7                                           16.3  "
      ]
     },
     "execution_count": 22,
     "metadata": {},
     "output_type": "execute_result"
    }
   ],
   "source": [
    "df.head(10)"
   ]
  },
  {
   "cell_type": "code",
   "execution_count": 23,
   "id": "6ac54dd0-b479-4a47-855d-d61a9a01a360",
   "metadata": {},
   "outputs": [],
   "source": [
    "%matplotlib inline"
   ]
  },
  {
   "cell_type": "code",
   "execution_count": 24,
   "id": "b20ffc1e-5422-4361-ade5-d0b00fc8afe2",
   "metadata": {},
   "outputs": [
    {
     "data": {
      "image/png": "[encoded data removed]",
      "text/plain": [
       "<Figure size 432x288 with 1 Axes>"
      ]
     },
     "metadata": {
      "needs_background": "light"
     },
     "output_type": "display_data"
    }
   ],
   "source": [
    "df.plot(x=\"Год\", y=[\"Федеральное Собрание РФ\", \"Совет Федерации Федерального Собрания РФ\", \"Государственная Дума Федерального Собрания РФ\"])\n",
    "plt.ylabel('%', fontsize=14) # добавляем подпись к оси ординат \"ось y\"\n",
    "plt.title(r'Доля мест, занимаемых женщинами в национальных парламентах РФ', fontsize=10, y=1.0);\n",
    "plt.grid()\n",
    "plt.show()"
   ]
  },
  {
   "cell_type": "code",
   "execution_count": 25,
   "id": "a61985d7-81fb-474e-8c66-9c92f9800d1c",
   "metadata": {},
   "outputs": [],
   "source": [
    "df1 = pd.read_excel('Домашний труд.xls')"
   ]
  },
  {
   "cell_type": "code",
   "execution_count": 26,
   "id": "fd449d51-4e6a-41e3-976e-e64bc11dcae6",
   "metadata": {},
   "outputs": [
    {
     "data": {
      "text/html": [
       "<div>\n",
       "<style scoped>\n",
       "    .dataframe tbody tr th:only-of-type {\n",
       "        vertical-align: middle;\n",
       "    }\n",
       "\n",
       "    .dataframe tbody tr th {\n",
       "        vertical-align: top;\n",
       "    }\n",
       "\n",
       "    .dataframe thead th {\n",
       "        text-align: right;\n",
       "    }\n",
       "</style>\n",
       "<table border=\"1\" class=\"dataframe\">\n",
       "  <thead>\n",
       "    <tr style=\"text-align: right;\">\n",
       "      <th></th>\n",
       "      <th>13.6</th>\n",
       "      <th>18.0</th>\n",
       "      <th>7.8</th>\n",
       "    </tr>\n",
       "  </thead>\n",
       "  <tbody>\n",
       "  </tbody>\n",
       "</table>\n",
       "</div>"
      ],
      "text/plain": [
       "Empty DataFrame\n",
       "Columns: [13.6, 18.0, 7.8]\n",
       "Index: []"
      ]
     },
     "execution_count": 26,
     "metadata": {},
     "output_type": "execute_result"
    }
   ],
   "source": [
    "df1.head(10)"
   ]
  },
  {
   "cell_type": "code",
   "execution_count": 27,
   "id": "72685968-b408-4ba6-b543-656f621c5ed8",
   "metadata": {},
   "outputs": [
    {
     "data": {
      "image/png": "[encoded data removed]",
      "text/plain": [
       "<Figure size 432x288 with 2 Axes>"
      ]
     },
     "metadata": {},
     "output_type": "display_data"
    }
   ],
   "source": [
    "import matplotlib.pyplot as plt\n",
    "label1 = ['', \"Женщины\"]\n",
    "label2 = ['', \"Мужчины\"]\n",
    "explode = (0, 0.1)\n",
    "values1 = [82.0,18.0]  \n",
    "values2= [92.2,7.8]  \n",
    "fig, (ax1, ax2) = plt.subplots(1, 2)\n",
    "ax1.pie(values1, labels=label1, explode = explode,autopct='%1.2f%%')\n",
    "#ax1.legend(loc='upper left', bbox_to_anchor=(1.0, 1.0))\n",
    "#ax1.legend(loc='best');\n",
    "ax2.pie(values2, labels=label2,explode = explode, autopct='%1.2f%%')\n",
    "plt.grid()\n",
    "plt.title(r'Время, затрачиваемое на неоплачиваемую работу по дому (2019 год)',fontsize=10, y=1.0, loc = 'right' )\n",
    "plt.show()"
   ]
  },
  {
   "cell_type": "code",
   "execution_count": 28,
   "id": "1555b9d7-3918-4f5b-93bc-a99c38b35916",
   "metadata": {},
   "outputs": [],
   "source": [
    "df2 = pd.read_excel('Телефоны.xls')"
   ]
  },
  {
   "cell_type": "code",
   "execution_count": 29,
   "id": "a44c2d9b-d866-4a82-8efa-4490e3a40601",
   "metadata": {},
   "outputs": [
    {
     "data": {
      "text/html": [
       "<div>\n",
       "<style scoped>\n",
       "    .dataframe tbody tr th:only-of-type {\n",
       "        vertical-align: middle;\n",
       "    }\n",
       "\n",
       "    .dataframe tbody tr th {\n",
       "        vertical-align: top;\n",
       "    }\n",
       "\n",
       "    .dataframe thead th {\n",
       "        text-align: right;\n",
       "    }\n",
       "</style>\n",
       "<table border=\"1\" class=\"dataframe\">\n",
       "  <thead>\n",
       "    <tr style=\"text-align: right;\">\n",
       "      <th></th>\n",
       "      <th>Год</th>\n",
       "      <th>Всего</th>\n",
       "      <th>Женщины</th>\n",
       "      <th>Мужчины</th>\n",
       "    </tr>\n",
       "  </thead>\n",
       "  <tbody>\n",
       "    <tr>\n",
       "      <th>0</th>\n",
       "      <td>2018</td>\n",
       "      <td>94.8</td>\n",
       "      <td>94.6</td>\n",
       "      <td>95.0</td>\n",
       "    </tr>\n",
       "    <tr>\n",
       "      <th>1</th>\n",
       "      <td>2019</td>\n",
       "      <td>97.0</td>\n",
       "      <td>97.0</td>\n",
       "      <td>97.0</td>\n",
       "    </tr>\n",
       "    <tr>\n",
       "      <th>2</th>\n",
       "      <td>2020</td>\n",
       "      <td>97.3</td>\n",
       "      <td>97.4</td>\n",
       "      <td>97.2</td>\n",
       "    </tr>\n",
       "  </tbody>\n",
       "</table>\n",
       "</div>"
      ],
      "text/plain": [
       "    Год  Всего  Женщины  Мужчины\n",
       "0  2018   94.8     94.6     95.0\n",
       "1  2019   97.0     97.0     97.0\n",
       "2  2020   97.3     97.4     97.2"
      ]
     },
     "execution_count": 29,
     "metadata": {},
     "output_type": "execute_result"
    }
   ],
   "source": [
    "df2.head()"
   ]
  },
  {
   "cell_type": "code",
   "execution_count": 30,
   "id": "d0d434bb-fd96-40b8-aa5a-f0f37dddc9fb",
   "metadata": {},
   "outputs": [],
   "source": [
    "df2 = df2.drop(columns=['Всего'])"
   ]
  },
  {
   "cell_type": "code",
   "execution_count": 31,
   "id": "aa3cac26-acc4-4925-8e9a-4954d02a5e21",
   "metadata": {},
   "outputs": [],
   "source": [
    "#train_X = train_df.drop(columns=['Survived']) "
   ]
  },
  {
   "cell_type": "code",
   "execution_count": 32,
   "id": "62b661e6-f2e5-4fba-96a2-20591324132f",
   "metadata": {},
   "outputs": [
    {
     "data": {
      "text/plain": [
       "Index(['Год', 'Женщины', 'Мужчины'], dtype='object')"
      ]
     },
     "execution_count": 32,
     "metadata": {},
     "output_type": "execute_result"
    }
   ],
   "source": [
    "df2.columns"
   ]
  },
  {
   "cell_type": "code",
   "execution_count": 33,
   "id": "9e37eacc-9fe9-44fb-abea-9127ac77bfe8",
   "metadata": {},
   "outputs": [
    {
     "ename": "NameError",
     "evalue": "name 'ax' is not defined",
     "output_type": "error",
     "traceback": [
      "\u001b[1;31m---------------------------------------------------------------------------\u001b[0m",
      "\u001b[1;31mNameError\u001b[0m                                 Traceback (most recent call last)",
      "\u001b[1;32m<ipython-input-33-84b857381be6>\u001b[0m in \u001b[0;36m<module>\u001b[1;34m\u001b[0m\n\u001b[0;32m      6\u001b[0m     \u001b[0mplt\u001b[0m\u001b[1;33m.\u001b[0m\u001b[0mplot\u001b[0m\u001b[1;33m(\u001b[0m\u001b[0mdf2\u001b[0m\u001b[1;33m.\u001b[0m\u001b[0mГод\u001b[0m\u001b[1;33m,\u001b[0m \u001b[0mdf2\u001b[0m\u001b[1;33m[\u001b[0m\u001b[0mcolumns\u001b[0m\u001b[1;33m[\u001b[0m\u001b[0mi\u001b[0m\u001b[1;33m]\u001b[0m\u001b[1;33m]\u001b[0m\u001b[1;33m)\u001b[0m\u001b[1;33m\u001b[0m\u001b[1;33m\u001b[0m\u001b[0m\n\u001b[0;32m      7\u001b[0m \u001b[0mlabel\u001b[0m \u001b[1;33m=\u001b[0m \u001b[1;33m[\u001b[0m\u001b[1;34m'Женщины'\u001b[0m\u001b[1;33m,\u001b[0m \u001b[1;34m'Мужчины'\u001b[0m\u001b[1;33m]\u001b[0m\u001b[1;33m\u001b[0m\u001b[1;33m\u001b[0m\u001b[0m\n\u001b[1;32m----> 8\u001b[1;33m \u001b[0max\u001b[0m\u001b[1;33m.\u001b[0m\u001b[0mplt\u001b[0m\u001b[1;33m(\u001b[0m\u001b[0mlabels\u001b[0m\u001b[1;33m=\u001b[0m \u001b[0mlabel\u001b[0m\u001b[1;33m,\u001b[0m \u001b[0mautopct\u001b[0m\u001b[1;33m=\u001b[0m\u001b[1;34m'%1.2f%%'\u001b[0m\u001b[1;33m)\u001b[0m\u001b[1;33m\u001b[0m\u001b[1;33m\u001b[0m\u001b[0m\n\u001b[0m\u001b[0;32m      9\u001b[0m \u001b[0mplt\u001b[0m\u001b[1;33m.\u001b[0m\u001b[0mlegend\u001b[0m\u001b[1;33m(\u001b[0m\u001b[0mlabel\u001b[0m\u001b[1;33m)\u001b[0m\u001b[1;33m\u001b[0m\u001b[1;33m\u001b[0m\u001b[0m\n\u001b[0;32m     10\u001b[0m \u001b[0mplt\u001b[0m\u001b[1;33m.\u001b[0m\u001b[0mgrid\u001b[0m\u001b[1;33m(\u001b[0m\u001b[1;33m)\u001b[0m\u001b[1;33m\u001b[0m\u001b[1;33m\u001b[0m\u001b[0m\n",
      "\u001b[1;31mNameError\u001b[0m: name 'ax' is not defined"
     ]
    },
    {
     "data": {
      "image/png": "[encoded data removed]",
      "text/plain": [
       "<Figure size 432x288 with 1 Axes>"
      ]
     },
     "metadata": {
      "needs_background": "light"
     },
     "output_type": "display_data"
    }
   ],
   "source": [
    "%matplotlib inline\n",
    "from matplotlib.ticker import MultipleLocator\n",
    "columns = df2.columns\n",
    "plt.xticks(df2.Год)\n",
    "for i in range(1, len(columns)):\n",
    "    plt.plot(df2.Год, df2[columns[i]])\n",
    "label = ['Женщины', 'Мужчины']    \n",
    "ax.plt(labels= label, autopct='%1.2f%%')\n",
    "plt.legend(label)\n",
    "plt.grid()\n",
    "plt.ylabel('%', fontsize=10) # добавляем подпись к оси ординат \"ось y\"\n",
    "plt.xlabel('Год', fontsize=10) # добавляем подпись к оси ординат \"ось y\"\n",
    "plt.title(r'Доля людей, имеющих мобильный телефон, в разбивке по полу',fontsize=10, y=1.0, loc = 'right' )\n",
    "plt.show()"
   ]
  },
  {
   "cell_type": "code",
   "execution_count": 41,
   "id": "35952d30-bf27-48aa-86ad-a0b73b9d6307",
   "metadata": {},
   "outputs": [],
   "source": [
    "df4 = pd.read_excel('Грань бедности (Россия).xls')\n"
   ]
  },
  {
   "cell_type": "code",
   "execution_count": 42,
   "id": "7c9cdf16-87f6-481a-b7c2-95a17c2cfa5a",
   "metadata": {},
   "outputs": [
    {
     "data": {
      "text/html": [
       "<div>\n",
       "<style scoped>\n",
       "    .dataframe tbody tr th:only-of-type {\n",
       "        vertical-align: middle;\n",
       "    }\n",
       "\n",
       "    .dataframe tbody tr th {\n",
       "        vertical-align: top;\n",
       "    }\n",
       "\n",
       "    .dataframe thead th {\n",
       "        text-align: right;\n",
       "    }\n",
       "</style>\n",
       "<table border=\"1\" class=\"dataframe\">\n",
       "  <thead>\n",
       "    <tr style=\"text-align: right;\">\n",
       "      <th></th>\n",
       "      <th>Year</th>\n",
       "      <th>Доля</th>\n",
       "    </tr>\n",
       "  </thead>\n",
       "  <tbody>\n",
       "    <tr>\n",
       "      <th>0</th>\n",
       "      <td>2010</td>\n",
       "      <td>12.5</td>\n",
       "    </tr>\n",
       "    <tr>\n",
       "      <th>1</th>\n",
       "      <td>2011</td>\n",
       "      <td>12.7</td>\n",
       "    </tr>\n",
       "    <tr>\n",
       "      <th>2</th>\n",
       "      <td>2012</td>\n",
       "      <td>10.7</td>\n",
       "    </tr>\n",
       "    <tr>\n",
       "      <th>3</th>\n",
       "      <td>2013</td>\n",
       "      <td>10.8</td>\n",
       "    </tr>\n",
       "    <tr>\n",
       "      <th>4</th>\n",
       "      <td>2014</td>\n",
       "      <td>11.3</td>\n",
       "    </tr>\n",
       "    <tr>\n",
       "      <th>5</th>\n",
       "      <td>2015</td>\n",
       "      <td>13.4</td>\n",
       "    </tr>\n",
       "    <tr>\n",
       "      <th>6</th>\n",
       "      <td>2016</td>\n",
       "      <td>13.2</td>\n",
       "    </tr>\n",
       "    <tr>\n",
       "      <th>7</th>\n",
       "      <td>2017</td>\n",
       "      <td>12.9</td>\n",
       "    </tr>\n",
       "    <tr>\n",
       "      <th>8</th>\n",
       "      <td>2018</td>\n",
       "      <td>12.6</td>\n",
       "    </tr>\n",
       "    <tr>\n",
       "      <th>9</th>\n",
       "      <td>2019</td>\n",
       "      <td>12.3</td>\n",
       "    </tr>\n",
       "  </tbody>\n",
       "</table>\n",
       "</div>"
      ],
      "text/plain": [
       "   Year  Доля\n",
       "0  2010  12.5\n",
       "1  2011  12.7\n",
       "2  2012  10.7\n",
       "3  2013  10.8\n",
       "4  2014  11.3\n",
       "5  2015  13.4\n",
       "6  2016  13.2\n",
       "7  2017  12.9\n",
       "8  2018  12.6\n",
       "9  2019  12.3"
      ]
     },
     "execution_count": 42,
     "metadata": {},
     "output_type": "execute_result"
    }
   ],
   "source": [
    "df4"
   ]
  },
  {
   "cell_type": "code",
   "execution_count": 43,
   "id": "81831ee3-ff8c-4017-b128-d4d0afe6be18",
   "metadata": {},
   "outputs": [],
   "source": [
    "#df4.Доля"
   ]
  },
  {
   "cell_type": "code",
   "execution_count": 44,
   "id": "3cc97833-cabd-4195-acc7-ae85fc2c620b",
   "metadata": {},
   "outputs": [
    {
     "data": {
      "image/png": "[encoded data removed]",
      "text/plain": [
       "<Figure size 432x288 with 1 Axes>"
      ]
     },
     "metadata": {
      "needs_background": "light"
     },
     "output_type": "display_data"
    }
   ],
   "source": [
    "%matplotlib inline\n",
    "from matplotlib.ticker import MultipleLocator\n",
    "columns = df4.columns\n",
    "plt.xticks(df4.Year)\n",
    "for i in range(1, len(columns)):\n",
    "    plt.plot(df4.Year, df4[columns[i]])\n",
    "label = ['Доля']    \n",
    "#ax.plt(labels= label, autopct='%1.2f%%')\n",
    "plt.legend(label)\n",
    "plt.ylabel('%', fontsize=10) # добавляем подпись к оси ординат \"ось y\"\n",
    "plt.xlabel('Год', fontsize=10) # добавляем подпись к оси ординат \"ось y\"\n",
    "plt.grid()\n",
    "plt.title(r'Доля населения РФ, живущего за национальной чертой бедности',fontsize=9.5, y=1.0, loc = 'left')\n",
    "plt.show()"
   ]
  },
  {
   "cell_type": "code",
   "execution_count": 45,
   "id": "d42f53da-8397-4420-91e6-43080b921a01",
   "metadata": {},
   "outputs": [],
   "source": [
    "df5 = pd.read_excel('Здравоохранение.xls')"
   ]
  },
  {
   "cell_type": "code",
   "execution_count": 46,
   "id": "14cec466-3e87-424b-b747-e385f764f67f",
   "metadata": {},
   "outputs": [
    {
     "data": {
      "text/html": [
       "<div>\n",
       "<style scoped>\n",
       "    .dataframe tbody tr th:only-of-type {\n",
       "        vertical-align: middle;\n",
       "    }\n",
       "\n",
       "    .dataframe tbody tr th {\n",
       "        vertical-align: top;\n",
       "    }\n",
       "\n",
       "    .dataframe thead th {\n",
       "        text-align: right;\n",
       "    }\n",
       "</style>\n",
       "<table border=\"1\" class=\"dataframe\">\n",
       "  <thead>\n",
       "    <tr style=\"text-align: right;\">\n",
       "      <th></th>\n",
       "      <th>year</th>\n",
       "      <th>value</th>\n",
       "    </tr>\n",
       "  </thead>\n",
       "  <tbody>\n",
       "    <tr>\n",
       "      <th>0</th>\n",
       "      <td>2017</td>\n",
       "      <td>0.8000</td>\n",
       "    </tr>\n",
       "    <tr>\n",
       "      <th>1</th>\n",
       "      <td>2018</td>\n",
       "      <td>0.9255</td>\n",
       "    </tr>\n",
       "    <tr>\n",
       "      <th>2</th>\n",
       "      <td>2019</td>\n",
       "      <td>1.0116</td>\n",
       "    </tr>\n",
       "    <tr>\n",
       "      <th>3</th>\n",
       "      <td>2020</td>\n",
       "      <td>1.0700</td>\n",
       "    </tr>\n",
       "  </tbody>\n",
       "</table>\n",
       "</div>"
      ],
      "text/plain": [
       "   year   value\n",
       "0  2017  0.8000\n",
       "1  2018  0.9255\n",
       "2  2019  1.0116\n",
       "3  2020  1.0700"
      ]
     },
     "execution_count": 46,
     "metadata": {},
     "output_type": "execute_result"
    }
   ],
   "source": [
    "df5"
   ]
  },
  {
   "cell_type": "code",
   "execution_count": 47,
   "id": "2ee6ed09-01eb-4fc6-b13f-be8c59bcede9",
   "metadata": {},
   "outputs": [
    {
     "data": {
      "image/png": "[encoded data removed]",
      "text/plain": [
       "<Figure size 432x288 with 1 Axes>"
      ]
     },
     "metadata": {
      "needs_background": "light"
     },
     "output_type": "display_data"
    }
   ],
   "source": [
    "%matplotlib inline\n",
    "from matplotlib.ticker import MultipleLocator\n",
    "columns = df5.columns\n",
    "plt.xticks(df5.year)\n",
    "for i in range(1, len(columns)):\n",
    "    plt.plot(df5.year, df5[columns[i]])\n",
    "plt.legend(label)\n",
    "plt.ylabel('%', fontsize=10) # добавляем подпись к оси ординат \"ось y\"\n",
    "plt.xlabel('Год', fontsize=10) # добавляем подпись к оси ординат \"ось y\"\n",
    "plt.grid()\n",
    "plt.title(r'Доля расходов консолидированного бюджета РФ на образование, здравоохранение ',fontsize=8.0, y=1.1, loc = 'center')\n",
    "plt.suptitle(r'социальное обеспечение в общей сумме расходов консолидированного бюджета',fontsize=9.5, y=0.95)\n",
    "plt.show()"
   ]
  }
 ],
 "metadata": {
  "kernelspec": {
   "display_name": "Python 3",
   "language": "python",
   "name": "python3"
  },
  "language_info": {
   "codemirror_mode": {
    "name": "ipython",
    "version": 3
   },
   "file_extension": ".py",
   "mimetype": "text/x-python",
   "name": "python",
   "nbconvert_exporter": "python",
   "pygments_lexer": "ipython3",
   "version": "3.8.8"
  }
 },
 "nbformat": 4,
 "nbformat_minor": 5
}
